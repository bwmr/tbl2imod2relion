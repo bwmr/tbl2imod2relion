{
 "cells": [
  {
   "cell_type": "markdown",
   "id": "8622b6ad",
   "metadata": {},
   "source": [
    "# imod2warp\n",
    "\n",
    "## Description\n",
    "This script will help you move a selection of **tomograms and alignments** from *imod* to be used in *warp* for subtomogram averaging.\n",
    "\n",
    "### The Sample Folder\n",
    "The sample folder contains *stacks* and *alignments* of all tilt series from one microscope session. All stacks should be acquired using the same parameters (defocus may change) and have unique names. This script expects a folder structure like this:\n",
    "\n",
    "    sampleFolder/\n",
    "        TS_XX/\n",
    "            imod/\n",
    "                TS_XX.mrc\n",
    "                TS_XX.mrc.mdoc\n",
    "                taSolution.log\n",
    "                TS_XX.rawtlt\n",
    "                TS_XX.xf\n",
    "\n",
    "### The Averaging Folder\n",
    "\n",
    "I would recommend setting up a folder for your averaging project. It will contain all data from *warp*, *relion* and *m* in separate folders to keep track of files. For *warp*, one folder per session should be used to avoid naming confusion (e.g. TS_11 from two different sessions). The folder will look something like this:\n",
    "\n",
    "    averagingProject/\n",
    "        warp210712/ \n",
    "        warp210823/  \n",
    "        warp210935/  \n",
    "        relion/\n",
    "        m/\n",
    "    \n",
    "Each *warp* folder contains all data required for warp (micrographs, alignment files from etomo, mdoc) in the following structure:\n",
    "\n",
    "    ./warpXXXXX/\n",
    "        imod/\n",
    "            TS_XX.mrc/\n",
    "                taSolution.log\n",
    "                TS_XX.mrc.rawtlt\n",
    "                TS_XX.mrc.xf\n",
    "        mdoc/\n",
    "            TS_XX.mrc.mdoc\n",
    "        TS_XX.mrc\n",
    "        \n",
    "All output files (reconstructions, subtomograms, power spectra) will be saved here also. "
   ]
  },
  {
   "cell_type": "markdown",
   "id": "62b22251",
   "metadata": {},
   "source": [
    "## Set up Target Folder\n",
    "\n",
    "Enter a *target_folder* for the averaging project, eg. `'/mnt/ome/Projects7/Benedikt/04_SFB/03_Relion/mSFB-SLayer-average'`.  \n",
    "Enter a *session ID* for this specific microscopy session, eg. `'210920'`"
   ]
  },
  {
   "cell_type": "code",
   "execution_count": 301,
   "id": "260cce50",
   "metadata": {},
   "outputs": [
    {
     "name": "stdout",
     "output_type": "stream",
     "text": [
      "Created Relion Folder.\n",
      "Created M Folder.\n",
      "Made Warp Folder.\n"
     ]
    }
   ],
   "source": [
    "import os\n",
    "import shutil\n",
    "import glob\n",
    "\n",
    "# Input\n",
    "target_folder = '/home/Medalia/BWimmer/Benedikt/04_SFB/03_Relion/test'\n",
    "session_ID = '210920'\n",
    "\n",
    "# Prepare Folder Structure for Warp / Relion / M project.\n",
    "\n",
    "os.chdir(target_folder)\n",
    "\n",
    "if os.path.exists(\"relion\"):\n",
    "    print(\"Relion Folder Exists.\")\n",
    "else:\n",
    "    os.mkdir(\"relion\")\n",
    "    print(\"Created Relion Folder.\")\n",
    "    \n",
    "if os.path.exists(\"m\"):\n",
    "    print(\"M Folder Exists.\")\n",
    "else:\n",
    "    os.mkdir(\"m\")\n",
    "    print(\"Created M Folder.\")\n",
    "    \n",
    "if os.path.exists(\"warp_\" + session_ID):\n",
    "    print(\"Warp Folder with this ID already Exists. Are you sure you want to continue?\")\n",
    "else:\n",
    "    os.mkdir(\"warp_\" + session_ID)\n",
    "    os.mkdir(\"warp_\" + session_ID +\"/imod\")\n",
    "    os.mkdir(\"warp_\" + session_ID +\"/mdoc\")\n",
    "    print(\"Made Warp Folder.\")"
   ]
  },
  {
   "cell_type": "markdown",
   "id": "1f4ee99c",
   "metadata": {},
   "source": [
    "## Read Sample Folder, select relevant TS\n",
    "Enter the *sample_folder* which contains the microscopy data.  \n",
    "Enter the *pattern* which returns all tilt series folders, eg. `'TS*'` to return TS_XX.  \n",
    "Enter the *suffix* (if any) that is attached to the stack name, eg. for folder TS_01 and stack name TS_01-ali.mrc enter `'-ali'`.  \n",
    "Enter the *selected tilt series* (folder names) that you would like to include in your averaging project, eg. `['TS_01','TS_03']`\n"
   ]
  },
  {
   "cell_type": "code",
   "execution_count": 302,
   "id": "8c0019d1",
   "metadata": {},
   "outputs": [
    {
     "name": "stdout",
     "output_type": "stream",
     "text": [
      "Found the following TS folders: \n",
      "TS_10, TS_11, TS_12, TS_03.mrc.mdoc~, TS_13, TS_07, TS_08, TS_14, TS_15, TS_16, TS_17, TS_18, TS_10.mrc.mdoc~, TS_22, TS_23, TS_24, TS_25, TS_26, TS_27, TS_28, TS_20, TS_29, TS_30, TS_31, TS_32, TS_01, TS_02, TS_03, TS_04, TS_05, TS_09\n",
      "\n",
      "Selected the following TS folders: \n",
      "TS_23\n",
      "\n",
      "Stack found for TS_23\n",
      "Metadata found for TS_23\n",
      "taSolution found for TS_23\n",
      "rawtlt found for TS_23\n",
      "xf found for TS_23\n",
      "\n",
      "\n"
     ]
    }
   ],
   "source": [
    "# Input. File suffix can be used if folder and file root are different, e.g. '-ali' for TS_01\n",
    "sample_folder = '/home/Medalia/BWimmer/Benedikt/04_SFB/01_Krios-data/210920-SFB-KriosI/210920-Exp10-mSFB'\n",
    "pattern = 'TS*'\n",
    "selected_ts = ['TS_23']\n",
    "suffix = ''\n",
    "\n",
    "# Read all TS Folders\n",
    "os.chdir(sample_folder)\n",
    "all_ts = glob.glob(pattern,recursive=False)\n",
    "print(\"Found the following TS folders: \\n\" + ', '.join([str(elem) for elem in all_ts]) + \"\\n\")\n",
    "print(\"Selected the following TS folders: \\n\" + '\\n'.join([str(elem) for elem in selected_ts]) + \"\\n\")\n",
    "\n",
    "# Check for raw stacks, mdoc files and alignment results for the selected TS\n",
    "for elem in selected_ts:\n",
    "      \n",
    "    source_root = sample_folder + '/' + elem + '/imod/'\n",
    "    \n",
    "    if os.path.isfile(source_root + elem + suffix + '.mrc'):\n",
    "        print(\"Stack found for \" + elem)\n",
    "    else: \n",
    "        print(\"Stack missing for \" + elem)\n",
    "    if os.path.isfile(source_root + elem + suffix + '.mrc.mdoc'):\n",
    "        print(\"Metadata found for \" + elem)\n",
    "    else: \n",
    "        print(\"Metadata missing for \" + elem)\n",
    "    if os.path.isfile(elem + '/imod/taSolution.log'):\n",
    "        print(\"taSolution found for \" + elem)\n",
    "    else: \n",
    "        print(\"taSolution missing for \" + elem)\n",
    "    if os.path.isfile(elem + '/imod/' + elem + suffix + '.rawtlt'):\n",
    "        print(\"rawtlt found for \" + elem)\n",
    "    else: \n",
    "        print(\"rawtlt missing for \" + elem)\n",
    "    if os.path.isfile(elem + '/imod/' + elem + suffix + '.xf'):\n",
    "        print(\"xf found for \" + elem)\n",
    "    else: \n",
    "        print(\"xf missing for \" + elem)\n",
    "    print(\"\\n\")"
   ]
  },
  {
   "cell_type": "markdown",
   "id": "44a78824",
   "metadata": {},
   "source": [
    "## Function: Make spoofed mdocs \n",
    "Takes input .mdoc as provided by SerialEM, adds the extracted tilt micrographs from a folder. Takes an input the sample folder, the Tilt series ID (eg. TS_12), under which the mdoc is found, and the folder to which individual tilt images hae been extracted. "
   ]
  },
  {
   "cell_type": "code",
   "execution_count": 303,
   "id": "73651001",
   "metadata": {},
   "outputs": [],
   "source": [
    "def tilts_to_mdoc(sample_folder,ts_id,target_warp):\n",
    "    \n",
    "    # Get List of all single tilts. \n",
    "    os.chdir(target_warp)\n",
    "    filenames = list()\n",
    "    filenames = glob.glob(ts_id + '*.mrc',recursive=False)\n",
    "    filenames = sorted(filenames)\n",
    "    \n",
    "    # Copy mdoc to target directory before processing.   \n",
    "    original = sample_folder + '/' + ts_id + '/imod/' + ts_id + '.mrc.mdoc'\n",
    "    output = target_warp + '/mdoc/' + ts_id + '.mrc.mdoc'  \n",
    "    \n",
    "    # Open File and parse some info.\n",
    "    \n",
    "    mdoc_count = 0\n",
    "    counter = 0      \n",
    "    \n",
    "    with open(original,'r') as orig:\n",
    "        lines = [line for line in orig]\n",
    "    \n",
    "    out = open(output,'w')\n",
    "        \n",
    "    for line in lines:\n",
    "        if line.startswith('[ZValue = '):\n",
    "            mdoc_count = mdoc_count + 1\n",
    "        if line.startswith('FilterSlitAndLoss'):\n",
    "            out.write(line)\n",
    "            out.write('SubFramePath = X:\\spoofed\\\\' +  filenames[counter] + '\\nNumSubFrames = 1\\nFrameDosesAndNumber = 3.41 1\\n')\n",
    "            counter = counter + 1;\n",
    "        else:\n",
    "            out.write(line)\n",
    "    \n",
    "    # Sanity Check: Are there as many mdoc entries as single-tilt files?\n",
    "    if len(filenames) == mdoc_count:\n",
    "        print('For ' + ts_id + ', numbers of mdoc entries and tilt counts match.')\n",
    "    else:\n",
    "        print('Something is wrong with either the mdoc file or the extracted tilts; the numbers do not match')\n",
    "       \n",
    "    print('Created mdoc for ' + ts_id + '.\\n')"
   ]
  },
  {
   "cell_type": "markdown",
   "id": "b35ed2b7",
   "metadata": {},
   "source": [
    "## Copy all Files to relevant Target Subfolders"
   ]
  },
  {
   "cell_type": "code",
   "execution_count": 307,
   "id": "0b0ae019",
   "metadata": {},
   "outputs": [
    {
     "name": "stdout",
     "output_type": "stream",
     "text": [
      "For TS_23, numbers of mdoc entries and tilt counts match.\n",
      "Created mdoc for TS_23.\n",
      "\n"
     ]
    }
   ],
   "source": [
    "target_warp = target_folder + '/warp_' + session_ID + '/'\n",
    "\n",
    "for elem in selected_ts:\n",
    "    \n",
    "    source_root = sample_folder + '/' + elem + '/imod/'    \n",
    "    \n",
    "    os.mkdir(target_warp + 'imod/' + elem + '.mrc')\n",
    "    \n",
    "    # Copy tilt alignments to imod/TS_XX\n",
    "    shutil.copy2(source_root + elem + suffix + '.rawtlt',target_warp + 'imod/' + elem + '.mrc/' + elem + '.mrc.rawtlt')\n",
    "    shutil.copy2(source_root + elem + suffix + '.xf',target_warp + 'imod/' + elem + '.mrc/' + elem + '.mrc.xf')\n",
    "    shutil.copy2(source_root + 'taSolution.log',target_warp + 'imod/' + elem + '.mrc/taSolution.log')\n",
    "        \n",
    "    # Extract frames from raw stack to warp directory\n",
    "    os.chdir(target_warp)\n",
    "    os.system('newstack -split 0 -quiet -append mrc -in ' + source_root + elem + suffix + '.mrc ' + elem + '_slice_')     \n",
    "    \n",
    "    # Create adapted mdoc file\n",
    "    tilts_to_mdoc(sample_folder,elem,target_warp)\n",
    "    \n",
    "    "
   ]
  },
  {
   "cell_type": "code",
   "execution_count": null,
   "id": "2e3bfcc8",
   "metadata": {},
   "outputs": [],
   "source": []
  }
 ],
 "metadata": {
  "kernelspec": {
   "display_name": "Python 3",
   "language": "python",
   "name": "python3"
  },
  "language_info": {
   "codemirror_mode": {
    "name": "ipython",
    "version": 3
   },
   "file_extension": ".py",
   "mimetype": "text/x-python",
   "name": "python",
   "nbconvert_exporter": "python",
   "pygments_lexer": "ipython3",
   "version": "3.7.9"
  }
 },
 "nbformat": 4,
 "nbformat_minor": 5
}
