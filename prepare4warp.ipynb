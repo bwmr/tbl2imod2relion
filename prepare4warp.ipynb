{
 "cells": [
  {
   "cell_type": "markdown",
   "id": "8622b6ad",
   "metadata": {},
   "source": [
    "# imod2warp\n",
    "\n",
    "## Description\n",
    "This script will help you move a selection of **tomograms and alignments** from *imod* to be used in *warp* for subtomogram averaging.\n",
    "\n",
    "### The Sample Folder\n",
    "The sample folder contains *stacks* and *alignments* of all tilt series from one microscope session. All stacks should be acquired using the same parameters (defocus may change) and have unique names. This script expects a folder structure like this:\n",
    "\n",
    "    sampleFolder/\n",
    "        TS_XX/\n",
    "            imod/\n",
    "                TS_XX.mrc\n",
    "                TS_XX.mrc.mdoc\n",
    "                taSolution.log\n",
    "                TS_XX.rawtlt\n",
    "                TS_XX.xf\n",
    "\n",
    "### The Averaging Folder\n",
    "\n",
    "I would recommend setting up a folder for your averaging project. It will contain all data from *warp*, *relion* and *m* in separate folders to keep track of files. For *warp*, one folder per session should be used to avoid naming confusion (e.g. TS_11 from two different sessions). The folder will look something like this:\n",
    "\n",
    "    averagingProject/\n",
    "        warp210712/ \n",
    "        warp210823/  \n",
    "        warp210935/  \n",
    "        relion/\n",
    "        m/\n",
    "    \n",
    "Each *warp* folder contains all data required for warp (micrographs, alignment files from etomo, mdoc) in the following structure:\n",
    "\n",
    "    ./warpXXXXX/\n",
    "        imod/\n",
    "            TS_XX.mrc/\n",
    "                taSolution.log\n",
    "                TS_XX.mrc.rawtlt\n",
    "                TS_XX.mrc.xf\n",
    "        mdoc/\n",
    "            TS_XX.mrc.mdoc\n",
    "        TS_XX.mrc\n",
    "        \n",
    "All output files (reconstructions, subtomograms, power spectra) will be saved here also. "
   ]
  },
  {
   "cell_type": "markdown",
   "id": "d59255d8",
   "metadata": {},
   "source": [
    "## Set up Target Folder"
   ]
  },
  {
   "cell_type": "code",
   "execution_count": 82,
   "id": "260cce50",
   "metadata": {},
   "outputs": [
    {
     "name": "stdout",
     "output_type": "stream",
     "text": [
      "Relion Folder Exists.\n",
      "M Folder Exists.\n",
      "Made Warp Folder.\n"
     ]
    }
   ],
   "source": [
    "import os\n",
    "import shutil\n",
    "import glob\n",
    "\n",
    "# Input\n",
    "target_folder = '/home/Medalia/BWimmer/Benedikt/04_SFB/03_Relion/test'\n",
    "session_ID = '210809'\n",
    "\n",
    "# Prepare Folder Structure for Warp / Relion / M project.\n",
    "\n",
    "os.chdir(target_folder)\n",
    "\n",
    "if os.path.exists(\"relion\"):\n",
    "    print(\"Relion Folder Exists.\")\n",
    "else:\n",
    "    os.mkdir(\"relion\")\n",
    "    print(\"Created Relion Folder.\")\n",
    "    \n",
    "if os.path.exists(\"m\"):\n",
    "    print(\"M Folder Exists.\")\n",
    "else:\n",
    "    os.mkdir(\"m\")\n",
    "    print(\"Created M Folder.\")\n",
    "    \n",
    "if os.path.exists(\"warp_\" + session_ID):\n",
    "    print(\"Warp Folder with this ID already Exists. Are you sure you want to continue?\")\n",
    "else:\n",
    "    os.mkdir(\"warp_\" + session_ID)\n",
    "    os.mkdir(\"warp_\" + session_ID +\"/imod\")\n",
    "    os.mkdir(\"warp_\" + session_ID +\"/mdoc\")\n",
    "    print(\"Made Warp Folder.\")"
   ]
  },
  {
   "cell_type": "markdown",
   "id": "d2610d5f",
   "metadata": {},
   "source": [
    "## Read Sample Folder, select relevant TS"
   ]
  },
  {
   "cell_type": "code",
   "execution_count": 105,
   "id": "5817f43c",
   "metadata": {},
   "outputs": [
    {
     "name": "stdout",
     "output_type": "stream",
     "text": [
      "Found the following TS folders: \n",
      "TS_16, TS_17, TS_01, TS_02, TS_03, TS_06, TS_07, TS_08, TS_09, TS_11, TS_12, TS_13, TS_14\n",
      "\n",
      "Selected the following TS folders: \n",
      "TS_09\n",
      "TS_16\n",
      "\n",
      "Stack found for TS_09\n",
      "Metadata found for TS_09\n",
      "taSolution found for TS_09\n",
      "rawtlt found for TS_09\n",
      "xf found for TS_09\n",
      "\n",
      "\n",
      "Stack found for TS_16\n",
      "Metadata found for TS_16\n",
      "taSolution found for TS_16\n",
      "rawtlt found for TS_16\n",
      "xf found for TS_16\n",
      "\n",
      "\n"
     ]
    }
   ],
   "source": [
    "# Input. File suffix can be used if folder and file root are different\n",
    "sample_folder = '/home/Medalia/BWimmer/Benedikt/04_SFB/01_Krios-data/210809-SFB-KriosI/210809-Exp4-3s'\n",
    "selected_ts = ['TS_09','TS_16']\n",
    "suffix = '-ali'\n",
    "\n",
    "# Read all TS Folders\n",
    "os.chdir(sample_folder)\n",
    "all_ts = glob.glob('TS*',recursive=False)\n",
    "print(\"Found the following TS folders: \\n\" + ', '.join([str(elem) for elem in all_ts]) + \"\\n\")\n",
    "print(\"Selected the following TS folders: \\n\" + '\\n'.join([str(elem) for elem in selected_ts]) + \"\\n\")\n",
    "\n",
    "# Check for raw stacks, mdoc files and alignment results for the selected TS\n",
    "for elem in selected_ts:\n",
    "      \n",
    "    source_root = sample_folder + '/' + elem + '/imod/'\n",
    "    \n",
    "    if os.path.isfile(source_root + elem + suffix + '.mrc'):\n",
    "        print(\"Stack found for \" + elem)\n",
    "    else: \n",
    "        print(\"Stack missing for \" + elem)\n",
    "    if os.path.isfile(source_root + elem + suffix + '.mrc.mdoc'):\n",
    "        print(\"Metadata found for \" + elem)\n",
    "    else: \n",
    "        print(\"Metadata missing for \" + elem)\n",
    "    if os.path.isfile(elem + '/imod/taSolution.log'):\n",
    "        print(\"taSolution found for \" + elem)\n",
    "    else: \n",
    "        print(\"taSolution missing for \" + elem)\n",
    "    if os.path.isfile(elem + '/imod/' + elem + suffix + '.rawtlt'):\n",
    "        print(\"rawtlt found for \" + elem)\n",
    "    else: \n",
    "        print(\"rawtlt missing for \" + elem)\n",
    "    if os.path.isfile(elem + '/imod/' + elem + suffix + '.xf'):\n",
    "        print(\"xf found for \" + elem)\n",
    "    else: \n",
    "        print(\"xf missing for \" + elem)\n",
    "    print(\"\\n\")"
   ]
  },
  {
   "cell_type": "markdown",
   "id": "4b874950",
   "metadata": {},
   "source": [
    "## Copy all Files to relevant Target Subfolders"
   ]
  },
  {
   "cell_type": "code",
   "execution_count": 90,
   "id": "e232655e",
   "metadata": {},
   "outputs": [
    {
     "name": "stdout",
     "output_type": "stream",
     "text": [
      "/home/Medalia/BWimmer/Benedikt/04_SFB/01_Krios-data/210809-SFB-KriosI/210809-Exp4-3s/TS_09/imod/\n"
     ]
    }
   ],
   "source": [
    "target_warp = target_folder + '/warp_' + session_ID\n",
    "\n",
    "\n",
    "for elem in selected_ts:\n",
    "    \n",
    "    source_root = sample_folder + '/' + elem + '/imod/'\n",
    "    print(source_root)\n",
    "    \n",
    "    # Copy .mdoc file to mdoc folder\n",
    "    \n",
    "    # Copy tilt alignments to imod/TS_XX\n",
    "    \n",
    "    \n",
    "    # shutil.copyfile('./' + elem + '/imod/' + elem + suffix + '.rawtlt',target_folder + '/imod/' + elem + '.mrc' + '.rawtlt')\n",
    "    \n",
    "    \n",
    "    \n",
    "    # Extract frames\n",
    "    \n",
    "    #target_ts = target_warp + '/imod/' + elem + '.mrc'\n",
    "    #os.mkdir(target_ts)\n",
    "    \n"
   ]
  },
  {
   "cell_type": "code",
   "execution_count": 89,
   "id": "314c1003",
   "metadata": {},
   "outputs": [
    {
     "data": {
      "text/plain": [
       "'/mnt/ome/Projects7/Benedikt/04_SFB/01_Krios-data/210809-SFB-KriosI/210809-Exp4-3s'"
      ]
     },
     "execution_count": 89,
     "metadata": {},
     "output_type": "execute_result"
    }
   ],
   "source": [
    "os.getcwd()"
   ]
  },
  {
   "cell_type": "code",
   "execution_count": null,
   "id": "a339fcfc",
   "metadata": {},
   "outputs": [],
   "source": []
  }
 ],
 "metadata": {
  "kernelspec": {
   "display_name": "Python 3",
   "language": "python",
   "name": "python3"
  },
  "language_info": {
   "codemirror_mode": {
    "name": "ipython",
    "version": 3
   },
   "file_extension": ".py",
   "mimetype": "text/x-python",
   "name": "python",
   "nbconvert_exporter": "python",
   "pygments_lexer": "ipython3",
   "version": "3.7.9"
  }
 },
 "nbformat": 4,
 "nbformat_minor": 5
}
